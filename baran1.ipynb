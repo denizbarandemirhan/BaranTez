{
 "cells": [
  {
   "cell_type": "code",
   "execution_count": 1,
   "id": "98a801dd",
   "metadata": {},
   "outputs": [
    {
     "name": "stdout",
     "output_type": "stream",
     "text": [
      "                Analyte Area  y          H3N2        H3N2F1         H4N2  \\\n",
      "0     k1_dhb_rep1_0_L23_1.xy  1   3163.357481   4885.690634  3670.847746   \n",
      "1     k1_dhb_rep2_0_L24_1.xy  1   2682.009781   3283.915197  2969.171610   \n",
      "2      k1_dhb_rep3_0_B7_1.xy  1   1011.698875   2374.803114  1685.586602   \n",
      "3      k1_dhb_rep4_0_B8_1.xy  1   2029.285562   5595.328580  2722.394593   \n",
      "4    k10_dhb_rep1_0_M11_1.xy  1   5171.100202  14595.628740  7797.227203   \n",
      "..                       ... ..           ...           ...          ...   \n",
      "247    s8_dhb_rep4_0_D2_1.xy  0   1567.062202   4073.686898  2621.816799   \n",
      "248   s9_dhb_rep1_0_O13_1.xy  0   8349.103468  14004.809700  9654.484786   \n",
      "249   s9_dhb_rep2_0_O14_1.xy  0   8690.188166  14777.650960  9451.542956   \n",
      "250   s9_dhb_rep3_0_D23_1.xy  0   2341.423443   3646.608695  2693.688124   \n",
      "251   s9_dhb_rep4_0_D24_1.xy  0  10623.247900  12324.377490  8883.824583   \n",
      "\n",
      "             H3N3       H4N2F1          H5N2        H3N3F1          H4N3  ...  \\\n",
      "0     3771.857637  4772.231652   8013.155773   6065.159283   6113.900448  ...   \n",
      "1     3009.109755  3950.000193   4904.763841   4395.516032   4288.148969  ...   \n",
      "2     1415.959163  1734.228838   4777.688114   3575.582053   3469.130399  ...   \n",
      "3     2742.439150  3021.560256  10516.329540   8007.436110   6709.111721  ...   \n",
      "4     6086.685464  6317.380916  34071.855130  12907.859520   9564.629439  ...   \n",
      "..            ...          ...           ...           ...           ...  ...   \n",
      "247   4528.570414  2402.991306  25823.667120  16783.291840   8887.987938  ...   \n",
      "248  12631.627290  9271.498425  48152.375090  26126.646640  22473.417870  ...   \n",
      "249  12095.699400  8641.121373  47725.439330  25514.774260  20711.064940  ...   \n",
      "250   3249.202534  3221.559440   8880.634962   7660.957274   5541.804072  ...   \n",
      "251  10506.498800  8575.471286  28949.441880  18745.005150  15341.754580  ...   \n",
      "\n",
      "         H6N5S1F1        H7N6F1        H6N7F1        H7N6F2        H7N7F1  \\\n",
      "0    13033.248480  16340.449750   8769.787868   7575.291301   8797.267863   \n",
      "1     7211.519560   8148.223309   5669.394241   5208.575732   5734.396884   \n",
      "2     9232.447877  15452.146610   5079.049180   3872.157962   5362.915557   \n",
      "3    21961.698120  26166.313510   9309.711604   7211.597378   9616.977093   \n",
      "4    20559.265620  26656.292780  17119.225500  13467.631410  23581.062260   \n",
      "..            ...           ...           ...           ...           ...   \n",
      "247  44356.538930  28197.953970   6808.044959   7200.620581   7757.716007   \n",
      "248  64269.809320  45799.560580  14486.503100  23824.146220  16731.651030   \n",
      "249  47719.467130  32051.725510  11045.955160  17512.171730  12261.830600   \n",
      "250  18939.943700  14537.848540   5603.547239   7832.403664   5890.671758   \n",
      "251  55972.642790  42623.903320  15352.769620  24203.134880  16713.205080   \n",
      "\n",
      "         H7N6S1F1        H6N5S3        H8N7F1        H9N8F1       H10N9F1  \n",
      "0     9101.482223   9935.063886  13051.720620  11631.959380   9792.444617  \n",
      "1     5778.351508   6064.139305   6909.803692   7159.002528   6539.060792  \n",
      "2     5537.557794   7327.828465  11013.221430   8292.943421   5963.842750  \n",
      "3    12612.054430  12468.525240  18706.501130  13951.521270   9966.898096  \n",
      "4    12660.054520  10608.266520  13315.393680   8721.176182   6980.419156  \n",
      "..            ...           ...           ...           ...           ...  \n",
      "247  12954.023100   9355.899485  14295.271150   9064.592176   5636.125764  \n",
      "248  27098.978490  21880.891350  31343.061920  31494.037200  21997.352290  \n",
      "249  19675.427890  14698.776620  20219.927200  19096.905170  13451.025060  \n",
      "250   8473.460948   6562.319252   8427.991167   7255.577009   5203.440621  \n",
      "251  25978.857700  19843.178820  26956.867190  24453.312370  17039.372500  \n",
      "\n",
      "[252 rows x 61 columns]\n"
     ]
    }
   ],
   "source": [
    "import pandas as pd\n",
    "import numpy as np\n",
    "import matplotlib.pyplot as plt\n",
    "\n",
    "df=pd.read_table(\"allglycans_aa.txt\")\n",
    "print(df)"
   ]
  },
  {
   "cell_type": "code",
   "execution_count": 2,
   "id": "444c3eb3",
   "metadata": {},
   "outputs": [
    {
     "name": "stdout",
     "output_type": "stream",
     "text": [
      "<class 'pandas.core.frame.DataFrame'>\n",
      "RangeIndex: 252 entries, 0 to 251\n",
      "Data columns (total 61 columns):\n",
      " #   Column        Non-Null Count  Dtype  \n",
      "---  ------        --------------  -----  \n",
      " 0   Analyte Area  252 non-null    object \n",
      " 1   y             252 non-null    int64  \n",
      " 2   H3N2          252 non-null    float64\n",
      " 3   H3N2F1        252 non-null    float64\n",
      " 4   H4N2          252 non-null    float64\n",
      " 5   H3N3          252 non-null    float64\n",
      " 6   H4N2F1        252 non-null    float64\n",
      " 7   H5N2          252 non-null    float64\n",
      " 8   H3N3F1        252 non-null    float64\n",
      " 9   H4N3          252 non-null    float64\n",
      " 10  H3N4          252 non-null    float64\n",
      " 11  H6N2          252 non-null    float64\n",
      " 12  H4N3F1        252 non-null    float64\n",
      " 13  H5N3          252 non-null    float64\n",
      " 14  H3N4F1        252 non-null    float64\n",
      " 15  H4N4          252 non-null    float64\n",
      " 16  H3N5          252 non-null    float64\n",
      " 17  H7N2          252 non-null    float64\n",
      " 18  H4N3S1        252 non-null    float64\n",
      " 19  H5N3F1        252 non-null    float64\n",
      " 20  H6N3          252 non-null    float64\n",
      " 21  H3N4S1        252 non-null    float64\n",
      " 22  H4N4F1        252 non-null    float64\n",
      " 23  H5N4          252 non-null    float64\n",
      " 24  H3N5F1        252 non-null    float64\n",
      " 25  H4N5          252 non-null    float64\n",
      " 26  H8N2          252 non-null    float64\n",
      " 27  H5N3S1        252 non-null    float64\n",
      " 28  H5N4F1        252 non-null    float64\n",
      " 29  H4N5F1        252 non-null    float64\n",
      " 30  H5N5          252 non-null    float64\n",
      " 31  H5N4S1F1      252 non-null    float64\n",
      " 32  H9N2          252 non-null    float64\n",
      " 33  H4N5S1F1      252 non-null    float64\n",
      " 34  H5N4S1        252 non-null    float64\n",
      " 35  H4N5F2        252 non-null    float64\n",
      " 36  H5N5F1        252 non-null    float64\n",
      " 37  H6N5          252 non-null    float64\n",
      " 38  H4N6F1        252 non-null    float64\n",
      " 39  H10N2         252 non-null    float64\n",
      " 40  H5N6          252 non-null    float64\n",
      " 41  H5N4S1F1.1    252 non-null    float64\n",
      " 42  H5N5S1        252 non-null    float64\n",
      " 43  H6N5F1        252 non-null    float64\n",
      " 44  H3N6S1F1      252 non-null    float64\n",
      " 45  H5N6F1        252 non-null    float64\n",
      " 46  H5N5S1F1      252 non-null    float64\n",
      " 47  H6N5S1        252 non-null    float64\n",
      " 48  H5N6F2        252 non-null    float64\n",
      " 49  H6N6F1        252 non-null    float64\n",
      " 50  H7N6          252 non-null    float64\n",
      " 51  H6N5S1F1      252 non-null    float64\n",
      " 52  H7N6F1        252 non-null    float64\n",
      " 53  H6N7F1        252 non-null    float64\n",
      " 54  H7N6F2        252 non-null    float64\n",
      " 55  H7N7F1        252 non-null    float64\n",
      " 56  H7N6S1F1      252 non-null    float64\n",
      " 57  H6N5S3        252 non-null    float64\n",
      " 58  H8N7F1        252 non-null    float64\n",
      " 59  H9N8F1        252 non-null    float64\n",
      " 60  H10N9F1       252 non-null    float64\n",
      "dtypes: float64(59), int64(1), object(1)\n",
      "memory usage: 120.2+ KB\n"
     ]
    }
   ],
   "source": [
    "df.info()"
   ]
  },
  {
   "cell_type": "code",
   "execution_count": 3,
   "id": "1592308c",
   "metadata": {},
   "outputs": [],
   "source": [
    "df.drop('H5N4S1F1.1', axis=1, inplace=True)"
   ]
  },
  {
   "cell_type": "code",
   "execution_count": 4,
   "id": "1bc30878",
   "metadata": {
    "scrolled": true
   },
   "outputs": [
    {
     "name": "stdout",
     "output_type": "stream",
     "text": [
      "<class 'pandas.core.frame.DataFrame'>\n",
      "RangeIndex: 252 entries, 0 to 251\n",
      "Data columns (total 60 columns):\n",
      " #   Column        Non-Null Count  Dtype  \n",
      "---  ------        --------------  -----  \n",
      " 0   Analyte Area  252 non-null    object \n",
      " 1   y             252 non-null    int64  \n",
      " 2   H3N2          252 non-null    float64\n",
      " 3   H3N2F1        252 non-null    float64\n",
      " 4   H4N2          252 non-null    float64\n",
      " 5   H3N3          252 non-null    float64\n",
      " 6   H4N2F1        252 non-null    float64\n",
      " 7   H5N2          252 non-null    float64\n",
      " 8   H3N3F1        252 non-null    float64\n",
      " 9   H4N3          252 non-null    float64\n",
      " 10  H3N4          252 non-null    float64\n",
      " 11  H6N2          252 non-null    float64\n",
      " 12  H4N3F1        252 non-null    float64\n",
      " 13  H5N3          252 non-null    float64\n",
      " 14  H3N4F1        252 non-null    float64\n",
      " 15  H4N4          252 non-null    float64\n",
      " 16  H3N5          252 non-null    float64\n",
      " 17  H7N2          252 non-null    float64\n",
      " 18  H4N3S1        252 non-null    float64\n",
      " 19  H5N3F1        252 non-null    float64\n",
      " 20  H6N3          252 non-null    float64\n",
      " 21  H3N4S1        252 non-null    float64\n",
      " 22  H4N4F1        252 non-null    float64\n",
      " 23  H5N4          252 non-null    float64\n",
      " 24  H3N5F1        252 non-null    float64\n",
      " 25  H4N5          252 non-null    float64\n",
      " 26  H8N2          252 non-null    float64\n",
      " 27  H5N3S1        252 non-null    float64\n",
      " 28  H5N4F1        252 non-null    float64\n",
      " 29  H4N5F1        252 non-null    float64\n",
      " 30  H5N5          252 non-null    float64\n",
      " 31  H5N4S1F1      252 non-null    float64\n",
      " 32  H9N2          252 non-null    float64\n",
      " 33  H4N5S1F1      252 non-null    float64\n",
      " 34  H5N4S1        252 non-null    float64\n",
      " 35  H4N5F2        252 non-null    float64\n",
      " 36  H5N5F1        252 non-null    float64\n",
      " 37  H6N5          252 non-null    float64\n",
      " 38  H4N6F1        252 non-null    float64\n",
      " 39  H10N2         252 non-null    float64\n",
      " 40  H5N6          252 non-null    float64\n",
      " 41  H5N5S1        252 non-null    float64\n",
      " 42  H6N5F1        252 non-null    float64\n",
      " 43  H3N6S1F1      252 non-null    float64\n",
      " 44  H5N6F1        252 non-null    float64\n",
      " 45  H5N5S1F1      252 non-null    float64\n",
      " 46  H6N5S1        252 non-null    float64\n",
      " 47  H5N6F2        252 non-null    float64\n",
      " 48  H6N6F1        252 non-null    float64\n",
      " 49  H7N6          252 non-null    float64\n",
      " 50  H6N5S1F1      252 non-null    float64\n",
      " 51  H7N6F1        252 non-null    float64\n",
      " 52  H6N7F1        252 non-null    float64\n",
      " 53  H7N6F2        252 non-null    float64\n",
      " 54  H7N7F1        252 non-null    float64\n",
      " 55  H7N6S1F1      252 non-null    float64\n",
      " 56  H6N5S3        252 non-null    float64\n",
      " 57  H8N7F1        252 non-null    float64\n",
      " 58  H9N8F1        252 non-null    float64\n",
      " 59  H10N9F1       252 non-null    float64\n",
      "dtypes: float64(58), int64(1), object(1)\n",
      "memory usage: 118.2+ KB\n"
     ]
    }
   ],
   "source": [
    "df.info()"
   ]
  },
  {
   "cell_type": "code",
   "execution_count": 5,
   "id": "d5e43630",
   "metadata": {},
   "outputs": [],
   "source": [
    "B=df[df.y==0]\n",
    "M=df[df.y==1]"
   ]
  },
  {
   "cell_type": "code",
   "execution_count": 6,
   "id": "72fff49b",
   "metadata": {},
   "outputs": [
    {
     "data": {
      "image/png": "[encoded data removed]",
      "text/plain": [
       "<Figure size 432x288 with 1 Axes>"
      ]
     },
     "metadata": {
      "needs_background": "light"
     },
     "output_type": "display_data"
    }
   ],
   "source": [
    "plt.scatter(M.H6N2,M.H3N5,color=\"red\",label=\"kötü huylu\")\n",
    "plt.scatter(B.H6N2,B.H3N5,color=\"green\",label=\"iyi huylu\")\n",
    "plt.xlabel(\"H6N2\")\n",
    "plt.ylabel(\"H3N5\")\n",
    "plt.legend()\n",
    "plt.show()"
   ]
  },
  {
   "cell_type": "code",
   "execution_count": 7,
   "id": "2fbbc1aa",
   "metadata": {},
   "outputs": [
    {
     "data": {
      "text/plain": [
       "0      1\n",
       "1      1\n",
       "2      1\n",
       "3      1\n",
       "4      1\n",
       "      ..\n",
       "247    0\n",
       "248    0\n",
       "249    0\n",
       "250    0\n",
       "251    0\n",
       "Name: y, Length: 252, dtype: int64"
      ]
     },
     "execution_count": 7,
     "metadata": {},
     "output_type": "execute_result"
    }
   ],
   "source": [
    "df[\"y\"]"
   ]
  },
  {
   "cell_type": "code",
   "execution_count": 8,
   "id": "4d6bd33b",
   "metadata": {},
   "outputs": [],
   "source": [
    "y=df.y.values\n",
    "x_data=df.drop([\"y\",\"Analyte Area\"],axis=1)"
   ]
  },
  {
   "cell_type": "code",
   "execution_count": 9,
   "id": "4d9f8a7d",
   "metadata": {},
   "outputs": [],
   "source": [
    "#x=x_data\n",
    "\n",
    "#Normalizasyon\n",
    "x=(x_data-np.min(x_data))/(np.max(x_data)-np.min(x_data))"
   ]
  },
  {
   "cell_type": "code",
   "execution_count": 10,
   "id": "73165f40",
   "metadata": {},
   "outputs": [],
   "source": [
    "from sklearn.model_selection import train_test_split\n",
    "x_train, x_test,y_train, y_test=train_test_split(x,y,test_size=0.2,random_state=1)"
   ]
  },
  {
   "cell_type": "markdown",
   "id": "1abcb0b7",
   "metadata": {},
   "source": [
    "## KNN"
   ]
  },
  {
   "cell_type": "code",
   "execution_count": 11,
   "id": "20011d2b",
   "metadata": {},
   "outputs": [
    {
     "name": "stdout",
     "output_type": "stream",
     "text": [
      "0.8627450980392157\n"
     ]
    }
   ],
   "source": [
    "from sklearn.neighbors import KNeighborsClassifier\n",
    "knn=KNeighborsClassifier(n_neighbors=5)\n",
    "knn.fit(x_train,y_train)\n",
    "knn_pred=knn.predict(x_test)\n",
    "knn_score=knn.score(x_test,y_test)\n",
    "print(knn_score)"
   ]
  },
  {
   "cell_type": "code",
   "execution_count": 57,
   "id": "5b72e52a",
   "metadata": {},
   "outputs": [
    {
     "data": {
      "image/png": "[encoded data removed]",
      "text/plain": [
       "<Figure size 432x288 with 1 Axes>"
      ]
     },
     "metadata": {
      "needs_background": "light"
     },
     "output_type": "display_data"
    }
   ],
   "source": [
    "score_list=[]\n",
    "for i in range(1,15):\n",
    "    knn2=KNeighborsClassifier(n_neighbors=i)\n",
    "    knn2.fit(x_train,y_train)\n",
    "    score_list.append(knn2.score(x_test,y_test))\n",
    "    \n",
    "plt.plot(range(1,15),score_list)\n",
    "plt.xlabel(\"k value\")\n",
    "plt.ylabel(\"score\")\n",
    "plt.show()"
   ]
  },
  {
   "cell_type": "markdown",
   "id": "ce5329cf",
   "metadata": {},
   "source": [
    "## SVM"
   ]
  },
  {
   "cell_type": "code",
   "execution_count": 12,
   "id": "242bc47d",
   "metadata": {},
   "outputs": [
    {
     "name": "stdout",
     "output_type": "stream",
     "text": [
      "svm score: 0.8431372549019608\n"
     ]
    }
   ],
   "source": [
    "from sklearn.svm import SVC\n",
    "svm=SVC(random_state=1)\n",
    "svm.fit(x_train,y_train)\n",
    "\n",
    "print(\"svm score:\",svm.score(x_test,y_test))"
   ]
  },
  {
   "cell_type": "markdown",
   "id": "8a11c8b0",
   "metadata": {},
   "source": [
    "## Decision Tree "
   ]
  },
  {
   "cell_type": "code",
   "execution_count": 17,
   "id": "4dc8b239",
   "metadata": {},
   "outputs": [
    {
     "name": "stdout",
     "output_type": "stream",
     "text": [
      "dt score: 0.5098039215686274\n"
     ]
    }
   ],
   "source": [
    "from sklearn.tree import DecisionTreeClassifier\n",
    "dt=DecisionTreeClassifier(random_state=1)\n",
    "dt.fit(x_train,y_train)\n",
    "\n",
    "print(\"dt score:\",dt.score(x_test,y_test))"
   ]
  },
  {
   "cell_type": "markdown",
   "id": "d0506314",
   "metadata": {},
   "source": [
    "## Random Forest"
   ]
  },
  {
   "cell_type": "code",
   "execution_count": 18,
   "id": "7d1056bc",
   "metadata": {},
   "outputs": [
    {
     "name": "stdout",
     "output_type": "stream",
     "text": [
      "rf score: 0.8431372549019608\n"
     ]
    }
   ],
   "source": [
    "from sklearn.ensemble import RandomForestClassifier\n",
    "rf=RandomForestClassifier(n_estimators=200, random_state=1)\n",
    "rf.fit(x_train,y_train)\n",
    "\n",
    "print(\"rf score:\",rf.score(x_test,y_test))"
   ]
  },
  {
   "cell_type": "markdown",
   "id": "f8bf6736",
   "metadata": {},
   "source": [
    "## KFOLD"
   ]
  },
  {
   "cell_type": "code",
   "execution_count": 20,
   "id": "bbe74f77",
   "metadata": {},
   "outputs": [
    {
     "name": "stdout",
     "output_type": "stream",
     "text": [
      "0.49019607843137253\n",
      "0.6470588235294118\n",
      "0.5\n",
      "0.68\n",
      "0.62\n",
      "ortalama skor: 0.5874509803921569\n"
     ]
    }
   ],
   "source": [
    "#KNN\n",
    "from sklearn.tree import DecisionTreeClassifier\n",
    "dt=DecisionTreeClassifier(random_state=1)\n",
    "\n",
    "from sklearn.model_selection import cross_val_score\n",
    "scores=cross_val_score(estimator=knn,X=x_data,y=y,cv=5)\n",
    "    \n",
    "for score in scores:\n",
    "    print(score)\n",
    "    \n",
    "print(\"ortalama skor:\",np.mean(scores))"
   ]
  },
  {
   "cell_type": "code",
   "execution_count": 46,
   "id": "374e6a16",
   "metadata": {},
   "outputs": [
    {
     "name": "stdout",
     "output_type": "stream",
     "text": [
      "0.5769230769230769\n",
      "0.6538461538461539\n",
      "0.68\n",
      "0.68\n",
      "0.64\n",
      "0.64\n",
      "0.8\n",
      "0.56\n",
      "0.64\n",
      "0.84\n",
      "ortalama skor: 0.6710769230769231\n"
     ]
    }
   ],
   "source": [
    "#SVM\n",
    "from sklearn.tree import DecisionTreeClassifier\n",
    "dt=DecisionTreeClassifier(random_state=1)\n",
    "\n",
    "from sklearn.model_selection import cross_val_score\n",
    "scores=cross_val_score(estimator=svm,X=x_data,y=y,cv=10)\n",
    "    \n",
    "for score in scores:\n",
    "    print(score)\n",
    "    \n",
    "print(\"ortalama skor:\",np.mean(scores))"
   ]
  },
  {
   "cell_type": "code",
   "execution_count": 21,
   "id": "0ba7f4e0",
   "metadata": {},
   "outputs": [
    {
     "name": "stdout",
     "output_type": "stream",
     "text": [
      "0.7450980392156863\n",
      "0.7058823529411765\n",
      "0.7\n",
      "0.78\n",
      "0.74\n",
      "ortalama skor: 0.7341960784313727\n"
     ]
    }
   ],
   "source": [
    "#DT\n",
    "from sklearn.tree import DecisionTreeClassifier\n",
    "dt=DecisionTreeClassifier(random_state=1)\n",
    "\n",
    "from sklearn.model_selection import cross_val_score\n",
    "scores=cross_val_score(estimator=dt,X=x_data,y=y,cv=5)\n",
    "    \n",
    "for score in scores:\n",
    "    print(score)\n",
    "    \n",
    "print(\"ortalama skor:\",np.mean(scores))"
   ]
  },
  {
   "cell_type": "code",
   "execution_count": 31,
   "id": "dd125740",
   "metadata": {},
   "outputs": [
    {
     "name": "stdout",
     "output_type": "stream",
     "text": [
      "0.8125\n",
      "0.90625\n",
      "0.75\n",
      "0.84375\n",
      "0.6451612903225806\n",
      "0.8709677419354839\n",
      "0.8387096774193549\n",
      "0.7096774193548387\n",
      "ortalama skor: 0.7971270161290323\n"
     ]
    }
   ],
   "source": [
    "#RFA\n",
    "from sklearn.tree import DecisionTreeClassifier\n",
    "dt=DecisionTreeClassifier(random_state=1)\n",
    "\n",
    "from sklearn.model_selection import cross_val_score\n",
    "scores=cross_val_score(estimator=rf,X=x_data,y=y,cv=8)\n",
    "    \n",
    "for score in scores:\n",
    "    print(score)\n",
    "    \n",
    "print(\"ortalama skor:\",np.mean(scores))"
   ]
  },
  {
   "cell_type": "code",
   "execution_count": null,
   "id": "557edb3e",
   "metadata": {},
   "outputs": [],
   "source": []
  },
  {
   "cell_type": "code",
   "execution_count": null,
   "id": "77ed3943",
   "metadata": {},
   "outputs": [],
   "source": []
  }
 ],
 "metadata": {
  "kernelspec": {
   "display_name": "Python 3",
   "language": "python",
   "name": "python3"
  },
  "language_info": {
   "codemirror_mode": {
    "name": "ipython",
    "version": 3
   },
   "file_extension": ".py",
   "mimetype": "text/x-python",
   "name": "python",
   "nbconvert_exporter": "python",
   "pygments_lexer": "ipython3",
   "version": "3.8.10"
  }
 },
 "nbformat": 4,
 "nbformat_minor": 5
}
